{
 "cells": [
  {
   "cell_type": "markdown",
   "id": "bef93255",
   "metadata": {},
   "source": [
    "The LookupError class is a base class for exceptions that occur when a lookup or indexing operation fails. It is a subclass of the Exception class. The primary purpose of the LookupError class is to group and handle errors related to accessing elements in a sequence or mapping data structure. Here are two examples of lookup-related exceptions derived from LookupError:\n",
    "\n",
    "KeyError: This exception is raised when attempting to access a dictionary or mapping using a key that does not exist. It indicates that the key being used for lookup is not present in the dictionary."
   ]
  },
  {
   "cell_type": "code",
   "execution_count": 1,
   "id": "da7f3ff0",
   "metadata": {},
   "outputs": [
    {
     "name": "stdout",
     "output_type": "stream",
     "text": [
      "Error: 'address'\n"
     ]
    }
   ],
   "source": [
    "my_dict = {\"name\": \"John\", \"age\": 30}\n",
    "\n",
    "try:\n",
    "    value = my_dict[\"address\"]\n",
    "    print(value)\n",
    "except KeyError as error:\n",
    "    print(f\"Error: {error}\")\n"
   ]
  },
  {
   "cell_type": "markdown",
   "id": "75bcd157",
   "metadata": {},
   "source": [
    "IndexError: This exception is raised when attempting to access a sequence (e.g., list, tuple, string) using an invalid index or an index that is out of range. It indicates that the index being used for lookup is either negative, larger than the sequence's length, or outside the valid index range."
   ]
  },
  {
   "cell_type": "code",
   "execution_count": 2,
   "id": "45c2cf19",
   "metadata": {},
   "outputs": [
    {
     "name": "stdout",
     "output_type": "stream",
     "text": [
      "Error: list index out of range\n"
     ]
    }
   ],
   "source": [
    "my_list = [1, 2, 3]\n",
    "\n",
    "try:\n",
    "    value = my_list[3]\n",
    "    print(value)\n",
    "except IndexError as error:\n",
    "    print(f\"Error: {error}\")\n"
   ]
  },
  {
   "cell_type": "code",
   "execution_count": null,
   "id": "bcf7bc3d",
   "metadata": {},
   "outputs": [],
   "source": []
  }
 ],
 "metadata": {
  "kernelspec": {
   "display_name": "Python 3 (ipykernel)",
   "language": "python",
   "name": "python3"
  },
  "language_info": {
   "codemirror_mode": {
    "name": "ipython",
    "version": 3
   },
   "file_extension": ".py",
   "mimetype": "text/x-python",
   "name": "python",
   "nbconvert_exporter": "python",
   "pygments_lexer": "ipython3",
   "version": "3.10.9"
  }
 },
 "nbformat": 4,
 "nbformat_minor": 5
}
