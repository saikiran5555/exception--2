{
 "cells": [
  {
   "cell_type": "markdown",
   "id": "f0eb7e17",
   "metadata": {},
   "source": [
    "The ArithmeticError class is a base class for arithmetic-related exceptions in Python. It is a subclass of the Exception class. The ArithmeticError class itself does not define any specific errors, but it serves as a superclass for more specific arithmetic-related exception classes. Here are two examples of arithmetic-related exceptions derived from ArithmeticError:\n",
    "\n",
    "ZeroDivisionError: This exception is raised when attempting to divide a number by zero. It indicates an invalid operation where the divisor is zero."
   ]
  },
  {
   "cell_type": "code",
   "execution_count": 1,
   "id": "103df659",
   "metadata": {},
   "outputs": [
    {
     "name": "stdout",
     "output_type": "stream",
     "text": [
      "Error: division by zero\n"
     ]
    }
   ],
   "source": [
    "dividend = 10\n",
    "divisor = 0\n",
    "\n",
    "try:\n",
    "    result = dividend / divisor\n",
    "    print(result)\n",
    "except ZeroDivisionError as error:\n",
    "    print(f\"Error: {error}\")\n"
   ]
  },
  {
   "cell_type": "markdown",
   "id": "d2d09774",
   "metadata": {},
   "source": [
    "OverflowError: This exception is raised when the result of an arithmetic operation is too large to be expressed within the available numeric range. It indicates that the result exceeds the maximum or minimum value that can be represented."
   ]
  },
  {
   "cell_type": "code",
   "execution_count": 2,
   "id": "1c7616cb",
   "metadata": {},
   "outputs": [
    {
     "name": "stdout",
     "output_type": "stream",
     "text": [
      "114813069527425452423283320117768198402231770208869520047764273682576626139237031385665948631650626991844596463898746277344711896086305533142593135616665318539129989145312280000688779148240044871428926990063486244781615463646388363947317026040466353970904996558162398808944629605623311649536164221970332681344168908984458505602379484807914058900934776500429002716706625830522008132236281291761267883317206598995396418127021779858404042159853183251540889433902091920554957783589672039160081957216630582755380425583726015528348786419432054508915275783882625175435528800822842770817965453762184851149029376\n"
     ]
    }
   ],
   "source": [
    "big_number = 2 ** 1000\n",
    "\n",
    "try:\n",
    "    result = big_number * big_number\n",
    "    print(result)\n",
    "except OverflowError as error:\n",
    "    print(f\"Error: {error}\")\n"
   ]
  },
  {
   "cell_type": "code",
   "execution_count": null,
   "id": "fb70eac3",
   "metadata": {},
   "outputs": [],
   "source": []
  }
 ],
 "metadata": {
  "kernelspec": {
   "display_name": "Python 3 (ipykernel)",
   "language": "python",
   "name": "python3"
  },
  "language_info": {
   "codemirror_mode": {
    "name": "ipython",
    "version": 3
   },
   "file_extension": ".py",
   "mimetype": "text/x-python",
   "name": "python",
   "nbconvert_exporter": "python",
   "pygments_lexer": "ipython3",
   "version": "3.10.9"
  }
 },
 "nbformat": 4,
 "nbformat_minor": 5
}
